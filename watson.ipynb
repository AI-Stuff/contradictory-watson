{
 "cells": [
  {
   "cell_type": "code",
   "execution_count": 1,
   "metadata": {
    "_cell_guid": "b1076dfc-b9ad-4769-8c92-a6c4dae69d19",
    "_uuid": "8f2839f25d086af736a60e9eeb907d3b93b6e0e5",
    "execution": {
     "iopub.execute_input": "2020-09-11T06:46:39.784143Z",
     "iopub.status.busy": "2020-09-11T06:46:39.783327Z",
     "iopub.status.idle": "2020-09-11T06:46:47.270795Z",
     "shell.execute_reply": "2020-09-11T06:46:47.271765Z"
    },
    "papermill": {
     "duration": 7.506035,
     "end_time": "2020-09-11T06:46:47.272193",
     "exception": false,
     "start_time": "2020-09-11T06:46:39.766158",
     "status": "completed"
    },
    "tags": []
   },
   "outputs": [
    {
     "name": "stdout",
     "output_type": "stream",
     "text": [
      "/kaggle/input/contradictory-my-dear-watson/sample_submission.csv\n",
      "/kaggle/input/contradictory-my-dear-watson/test.csv\n",
      "/kaggle/input/contradictory-my-dear-watson/train.csv\n"
     ]
    }
   ],
   "source": [
    "# This Python 3 environment comes with many helpful analytics libraries installed\n",
    "# It is defined by the kaggle/python Docker image: https://github.com/kaggle/docker-python\n",
    "# For example, here's several helpful packages to load\n",
    "\n",
    "import numpy as np # linear algebra\n",
    "import pandas as pd # data processing, CSV file I/O (e.g. pd.read_csv)\n",
    "import tensorflow as tf\n",
    "\n",
    "# Input data files are available in the read-only \"../input/\" directory\n",
    "# For example, running this (by clicking run or pressing Shift+Enter) will list all files under the input directory\n",
    "\n",
    "import os\n",
    "for dirname, _, filenames in os.walk('/kaggle/input'):\n",
    "    for filename in filenames:\n",
    "        print(os.path.join(dirname, filename))\n",
    "\n",
    "# You can write up to 5GB to the current directory (/kaggle/working/) that gets preserved as output when you create a version using \"Save & Run All\" \n",
    "# You can also write temporary files to /kaggle/temp/, but they won't be saved outside of the current session"
   ]
  },
  {
   "cell_type": "code",
   "execution_count": 2,
   "metadata": {
    "_cell_guid": "79c7e3d0-c299-4dcb-8224-4455121ee9b0",
    "_uuid": "d629ff2d2480ee46fbb7e2d37f6b5fab8052498a",
    "execution": {
     "iopub.execute_input": "2020-09-11T06:46:47.312485Z",
     "iopub.status.busy": "2020-09-11T06:46:47.311325Z",
     "iopub.status.idle": "2020-09-11T06:46:47.508397Z",
     "shell.execute_reply": "2020-09-11T06:46:47.508954Z"
    },
    "papermill": {
     "duration": 0.21712,
     "end_time": "2020-09-11T06:46:47.509140",
     "exception": false,
     "start_time": "2020-09-11T06:46:47.292020",
     "status": "completed"
    },
    "tags": []
   },
   "outputs": [
    {
     "data": {
      "text/html": [
       "<div>\n",
       "<style scoped>\n",
       "    .dataframe tbody tr th:only-of-type {\n",
       "        vertical-align: middle;\n",
       "    }\n",
       "\n",
       "    .dataframe tbody tr th {\n",
       "        vertical-align: top;\n",
       "    }\n",
       "\n",
       "    .dataframe thead th {\n",
       "        text-align: right;\n",
       "    }\n",
       "</style>\n",
       "<table border=\"1\" class=\"dataframe\">\n",
       "  <thead>\n",
       "    <tr style=\"text-align: right;\">\n",
       "      <th></th>\n",
       "      <th>id</th>\n",
       "      <th>premise</th>\n",
       "      <th>hypothesis</th>\n",
       "      <th>lang_abv</th>\n",
       "      <th>language</th>\n",
       "      <th>label</th>\n",
       "    </tr>\n",
       "  </thead>\n",
       "  <tbody>\n",
       "    <tr>\n",
       "      <th>0</th>\n",
       "      <td>5130fd2cb5</td>\n",
       "      <td>and these comments were considered in formulat...</td>\n",
       "      <td>The rules developed in the interim were put to...</td>\n",
       "      <td>en</td>\n",
       "      <td>English</td>\n",
       "      <td>0</td>\n",
       "    </tr>\n",
       "    <tr>\n",
       "      <th>1</th>\n",
       "      <td>5b72532a0b</td>\n",
       "      <td>These are issues that we wrestle with in pract...</td>\n",
       "      <td>Practice groups are not permitted to work on t...</td>\n",
       "      <td>en</td>\n",
       "      <td>English</td>\n",
       "      <td>2</td>\n",
       "    </tr>\n",
       "    <tr>\n",
       "      <th>2</th>\n",
       "      <td>3931fbe82a</td>\n",
       "      <td>Des petites choses comme celles-là font une di...</td>\n",
       "      <td>J'essayais d'accomplir quelque chose.</td>\n",
       "      <td>fr</td>\n",
       "      <td>French</td>\n",
       "      <td>0</td>\n",
       "    </tr>\n",
       "    <tr>\n",
       "      <th>3</th>\n",
       "      <td>5622f0c60b</td>\n",
       "      <td>you know they can't really defend themselves l...</td>\n",
       "      <td>They can't defend themselves because of their ...</td>\n",
       "      <td>en</td>\n",
       "      <td>English</td>\n",
       "      <td>0</td>\n",
       "    </tr>\n",
       "    <tr>\n",
       "      <th>4</th>\n",
       "      <td>86aaa48b45</td>\n",
       "      <td>ในการเล่นบทบาทสมมุติก็เช่นกัน โอกาสที่จะได้แสด...</td>\n",
       "      <td>เด็กสามารถเห็นได้ว่าชาติพันธุ์แตกต่างกันอย่างไร</td>\n",
       "      <td>th</td>\n",
       "      <td>Thai</td>\n",
       "      <td>1</td>\n",
       "    </tr>\n",
       "  </tbody>\n",
       "</table>\n",
       "</div>"
      ],
      "text/plain": [
       "           id                                            premise  \\\n",
       "0  5130fd2cb5  and these comments were considered in formulat...   \n",
       "1  5b72532a0b  These are issues that we wrestle with in pract...   \n",
       "2  3931fbe82a  Des petites choses comme celles-là font une di...   \n",
       "3  5622f0c60b  you know they can't really defend themselves l...   \n",
       "4  86aaa48b45  ในการเล่นบทบาทสมมุติก็เช่นกัน โอกาสที่จะได้แสด...   \n",
       "\n",
       "                                          hypothesis lang_abv language  label  \n",
       "0  The rules developed in the interim were put to...       en  English      0  \n",
       "1  Practice groups are not permitted to work on t...       en  English      2  \n",
       "2              J'essayais d'accomplir quelque chose.       fr   French      0  \n",
       "3  They can't defend themselves because of their ...       en  English      0  \n",
       "4    เด็กสามารถเห็นได้ว่าชาติพันธุ์แตกต่างกันอย่างไร       th     Thai      1  "
      ]
     },
     "execution_count": 2,
     "metadata": {},
     "output_type": "execute_result"
    }
   ],
   "source": [
    "df = pd.read_csv('/kaggle/input/contradictory-my-dear-watson/train.csv')\n",
    "df.head()"
   ]
  },
  {
   "cell_type": "code",
   "execution_count": 3,
   "metadata": {
    "execution": {
     "iopub.execute_input": "2020-09-11T06:46:47.538686Z",
     "iopub.status.busy": "2020-09-11T06:46:47.537563Z",
     "iopub.status.idle": "2020-09-11T06:46:47.889123Z",
     "shell.execute_reply": "2020-09-11T06:46:47.887961Z"
    },
    "papermill": {
     "duration": 0.367859,
     "end_time": "2020-09-11T06:46:47.889406",
     "exception": false,
     "start_time": "2020-09-11T06:46:47.521547",
     "status": "completed"
    },
    "tags": []
   },
   "outputs": [
    {
     "data": {
      "text/plain": [
       "<matplotlib.axes._subplots.AxesSubplot at 0x7f52f5eaec50>"
      ]
     },
     "execution_count": 3,
     "metadata": {},
     "output_type": "execute_result"
    },
    {
     "data": {
      "image/png": "[encoded data removed]",
      "text/plain": [
       "<Figure size 432x288 with 1 Axes>"
      ]
     },
     "metadata": {
      "needs_background": "light"
     },
     "output_type": "display_data"
    }
   ],
   "source": [
    "df['label'].hist() # Approximately uniformly distributed"
   ]
  },
  {
   "cell_type": "code",
   "execution_count": 4,
   "metadata": {
    "execution": {
     "iopub.execute_input": "2020-09-11T06:46:47.929971Z",
     "iopub.status.busy": "2020-09-11T06:46:47.929021Z",
     "iopub.status.idle": "2020-09-11T06:47:11.138178Z",
     "shell.execute_reply": "2020-09-11T06:47:11.137247Z"
    },
    "papermill": {
     "duration": 23.230362,
     "end_time": "2020-09-11T06:47:11.138380",
     "exception": false,
     "start_time": "2020-09-11T06:46:47.908018",
     "status": "completed"
    },
    "tags": []
   },
   "outputs": [
    {
     "name": "stdout",
     "output_type": "stream",
     "text": [
      "Collecting googletrans\r\n",
      "  Downloading googletrans-3.0.0.tar.gz (17 kB)\r\n",
      "Collecting httpx==0.13.3\r\n",
      "  Downloading httpx-0.13.3-py3-none-any.whl (55 kB)\r\n",
      "\u001b[K     |████████████████████████████████| 55 kB 231 kB/s \r\n",
      "\u001b[?25hRequirement already satisfied: idna==2.* in /opt/conda/lib/python3.7/site-packages (from httpx==0.13.3->googletrans) (2.9)\r\n",
      "Collecting rfc3986<2,>=1.3\r\n",
      "  Downloading rfc3986-1.4.0-py2.py3-none-any.whl (31 kB)\r\n",
      "Collecting sniffio\r\n",
      "  Downloading sniffio-1.1.0-py3-none-any.whl (4.5 kB)\r\n",
      "Collecting httpcore==0.9.*\r\n",
      "  Downloading httpcore-0.9.1-py3-none-any.whl (42 kB)\r\n",
      "\u001b[K     |████████████████████████████████| 42 kB 360 kB/s \r\n",
      "\u001b[?25hRequirement already satisfied: certifi in /opt/conda/lib/python3.7/site-packages (from httpx==0.13.3->googletrans) (2020.6.20)\r\n",
      "Collecting hstspreload\r\n",
      "  Downloading hstspreload-2020.9.9-py3-none-any.whl (953 kB)\r\n",
      "\u001b[K     |████████████████████████████████| 953 kB 535 kB/s \r\n",
      "\u001b[?25hRequirement already satisfied: chardet==3.* in /opt/conda/lib/python3.7/site-packages (from httpx==0.13.3->googletrans) (3.0.4)\r\n",
      "Collecting h2==3.*\r\n",
      "  Downloading h2-3.2.0-py2.py3-none-any.whl (65 kB)\r\n",
      "\u001b[K     |████████████████████████████████| 65 kB 1.5 MB/s \r\n",
      "\u001b[?25hCollecting h11<0.10,>=0.8\r\n",
      "  Downloading h11-0.9.0-py2.py3-none-any.whl (53 kB)\r\n",
      "\u001b[K     |████████████████████████████████| 53 kB 1.0 MB/s \r\n",
      "\u001b[?25hCollecting hpack<4,>=3.0\r\n",
      "  Downloading hpack-3.0.0-py2.py3-none-any.whl (38 kB)\r\n",
      "Collecting hyperframe<6,>=5.2.0\r\n",
      "  Downloading hyperframe-5.2.0-py2.py3-none-any.whl (12 kB)\r\n",
      "Building wheels for collected packages: googletrans\r\n",
      "  Building wheel for googletrans (setup.py) ... \u001b[?25l-\b \b\\\b \bdone\r\n",
      "\u001b[?25h  Created wheel for googletrans: filename=googletrans-3.0.0-py3-none-any.whl size=15734 sha256=747488774ee27196ca9cd609731ebe274072e301bbdf7641929960576753d363\r\n",
      "  Stored in directory: /root/.cache/pip/wheels/20/da/eb/a54579056f265eede0417df537dd56d3df5b9eb2b25df0003d\r\n",
      "Successfully built googletrans\r\n",
      "Installing collected packages: rfc3986, sniffio, hpack, hyperframe, h2, h11, httpcore, hstspreload, httpx, googletrans\r\n",
      "Successfully installed googletrans-3.0.0 h11-0.9.0 h2-3.2.0 hpack-3.0.0 hstspreload-2020.9.9 httpcore-0.9.1 httpx-0.13.3 hyperframe-5.2.0 rfc3986-1.4.0 sniffio-1.1.0\r\n",
      "\u001b[33mWARNING: You are using pip version 20.2.1; however, version 20.2.3 is available.\r\n",
      "You should consider upgrading via the '/opt/conda/bin/python3.7 -m pip install --upgrade pip' command.\u001b[0m\r\n"
     ]
    }
   ],
   "source": [
    "!pip install googletrans"
   ]
  },
  {
   "cell_type": "code",
   "execution_count": 5,
   "metadata": {
    "execution": {
     "iopub.execute_input": "2020-09-11T06:47:11.206327Z",
     "iopub.status.busy": "2020-09-11T06:47:11.205108Z",
     "iopub.status.idle": "2020-09-11T06:47:51.125466Z",
     "shell.execute_reply": "2020-09-11T06:47:51.125970Z"
    },
    "papermill": {
     "duration": 39.956225,
     "end_time": "2020-09-11T06:47:51.126149",
     "exception": false,
     "start_time": "2020-09-11T06:47:11.169924",
     "status": "completed"
    },
    "tags": []
   },
   "outputs": [],
   "source": [
    "\n",
    "\n",
    "import tensorflow_hub as hub\n",
    "\n",
    "embedding_url = 'https://tfhub.dev/google/universal-sentence-encoder-large/5'\n",
    "\n",
    "#model = tf.keras.Sequential()\n",
    "\n",
    "embedding_layer = hub.KerasLayer(embedding_url, trainable=True)\n",
    "premises = tf.keras.layers.Input(shape=(), name=\"Input1\", dtype=tf.string)\n",
    "conclusion = tf.keras.layers.Input(shape=(), name=\"Input2\", dtype=tf.string)\n",
    "x1 = embedding_layer(premises)\n",
    "x2 = embedding_layer(conclusion) \n",
    "subtracted = tf.keras.layers.Add()([x1, x2])\n",
    "subtracted = tf.keras.layers.BatchNormalization()(subtracted)\n",
    "subtracted = tf.keras.layers.Dropout(0.5)(subtracted)\n",
    "output = tf.keras.layers.Dense(512, activation='relu')(subtracted)\n",
    "output = tf.keras.layers.BatchNormalization()(output)\n",
    "output = tf.keras.layers.Dense(128, activation='relu')(subtracted)\n",
    "output = tf.keras.layers.BatchNormalization()(output)\n",
    "output = tf.keras.layers.Dense(3)(output)\n",
    "\n",
    "model = tf.keras.Model(inputs=[premises, conclusion], outputs=output)\n",
    "optimizer = tf.keras.optimizers.Adamax()\n",
    "model.compile(optimizer=optimizer, loss=tf.keras.losses.SparseCategoricalCrossentropy(from_logits=True))"
   ]
  },
  {
   "cell_type": "code",
   "execution_count": 6,
   "metadata": {
    "execution": {
     "iopub.execute_input": "2020-09-11T06:47:51.186721Z",
     "iopub.status.busy": "2020-09-11T06:47:51.185469Z",
     "iopub.status.idle": "2020-09-11T06:47:51.873087Z",
     "shell.execute_reply": "2020-09-11T06:47:51.872289Z"
    },
    "papermill": {
     "duration": 0.718869,
     "end_time": "2020-09-11T06:47:51.873219",
     "exception": false,
     "start_time": "2020-09-11T06:47:51.154350",
     "status": "completed"
    },
    "tags": []
   },
   "outputs": [
    {
     "data": {
      "image/png": "[encoded data removed]",
      "text/plain": [
       "<IPython.core.display.Image object>"
      ]
     },
     "execution_count": 6,
     "metadata": {},
     "output_type": "execute_result"
    }
   ],
   "source": [
    "tf.keras.utils.plot_model(model, show_shapes=True)"
   ]
  },
  {
   "cell_type": "code",
   "execution_count": 7,
   "metadata": {
    "execution": {
     "iopub.execute_input": "2020-09-11T06:47:51.947943Z",
     "iopub.status.busy": "2020-09-11T06:47:51.947252Z",
     "iopub.status.idle": "2020-09-11T06:47:52.057639Z",
     "shell.execute_reply": "2020-09-11T06:47:52.056449Z"
    },
    "papermill": {
     "duration": 0.153646,
     "end_time": "2020-09-11T06:47:52.057780",
     "exception": false,
     "start_time": "2020-09-11T06:47:51.904134",
     "status": "completed"
    },
    "tags": []
   },
   "outputs": [],
   "source": [
    "from random import randint\n",
    "from googletrans import Translator\n",
    "translator = Translator()\n",
    "\n",
    "def generate_batch(batch_size=32):\n",
    "    premise_tensor = []\n",
    "    conclusion_tensor = []\n",
    "    label_tensor = []\n",
    "    \n",
    "    for i in range(batch_size):\n",
    "        index = randint(0, len(df) - 1)\n",
    "        premise_tensor.append(translator.translate(df.iloc[index, :].premise).text)\n",
    "        conclusion_tensor.append(translator.translate(df.iloc[index, :].hypothesis).text)\n",
    "        label_tensor.append(df.iloc[index, :].label)\n",
    "    \n",
    "    return tf.data.Dataset.from_tensor_slices(({\"Input1\": premise_tensor, \"Input2\": conclusion_tensor}, label_tensor)).batch(batch_size)"
   ]
  },
  {
   "cell_type": "code",
   "execution_count": 8,
   "metadata": {
    "execution": {
     "iopub.execute_input": "2020-09-11T06:47:52.127523Z",
     "iopub.status.busy": "2020-09-11T06:47:52.126809Z",
     "iopub.status.idle": "2020-09-11T06:47:52.180096Z",
     "shell.execute_reply": "2020-09-11T06:47:52.179421Z"
    },
    "papermill": {
     "duration": 0.090322,
     "end_time": "2020-09-11T06:47:52.180227",
     "exception": false,
     "start_time": "2020-09-11T06:47:52.089905",
     "status": "completed"
    },
    "tags": []
   },
   "outputs": [
    {
     "data": {
      "text/html": [
       "<div>\n",
       "<style scoped>\n",
       "    .dataframe tbody tr th:only-of-type {\n",
       "        vertical-align: middle;\n",
       "    }\n",
       "\n",
       "    .dataframe tbody tr th {\n",
       "        vertical-align: top;\n",
       "    }\n",
       "\n",
       "    .dataframe thead th {\n",
       "        text-align: right;\n",
       "    }\n",
       "</style>\n",
       "<table border=\"1\" class=\"dataframe\">\n",
       "  <thead>\n",
       "    <tr style=\"text-align: right;\">\n",
       "      <th></th>\n",
       "      <th>id</th>\n",
       "      <th>premise</th>\n",
       "      <th>hypothesis</th>\n",
       "      <th>lang_abv</th>\n",
       "      <th>language</th>\n",
       "    </tr>\n",
       "  </thead>\n",
       "  <tbody>\n",
       "    <tr>\n",
       "      <th>0</th>\n",
       "      <td>c6d58c3f69</td>\n",
       "      <td>بکس، کیسی، راہیل، یسعیاہ، کیلی، کیلی، اور کولم...</td>\n",
       "      <td>کیسی کے لئے کوئی یادگار نہیں ہوگا, کولمین ہائی...</td>\n",
       "      <td>ur</td>\n",
       "      <td>Urdu</td>\n",
       "    </tr>\n",
       "    <tr>\n",
       "      <th>1</th>\n",
       "      <td>cefcc82292</td>\n",
       "      <td>هذا هو ما تم نصحنا به.</td>\n",
       "      <td>عندما يتم إخبارهم بما يجب عليهم فعله ، فشلت ال...</td>\n",
       "      <td>ar</td>\n",
       "      <td>Arabic</td>\n",
       "    </tr>\n",
       "    <tr>\n",
       "      <th>2</th>\n",
       "      <td>e98005252c</td>\n",
       "      <td>et cela est en grande partie dû au fait que le...</td>\n",
       "      <td>Les mères se droguent.</td>\n",
       "      <td>fr</td>\n",
       "      <td>French</td>\n",
       "    </tr>\n",
       "    <tr>\n",
       "      <th>3</th>\n",
       "      <td>58518c10ba</td>\n",
       "      <td>与城市及其他公民及社区组织代表就IMA的艺术发展进行对话&amp;amp</td>\n",
       "      <td>IMA与其他组织合作，因为它们都依靠共享资金。</td>\n",
       "      <td>zh</td>\n",
       "      <td>Chinese</td>\n",
       "    </tr>\n",
       "    <tr>\n",
       "      <th>4</th>\n",
       "      <td>c32b0d16df</td>\n",
       "      <td>Она все еще была там.</td>\n",
       "      <td>Мы думали, что она ушла, однако, она осталась.</td>\n",
       "      <td>ru</td>\n",
       "      <td>Russian</td>\n",
       "    </tr>\n",
       "  </tbody>\n",
       "</table>\n",
       "</div>"
      ],
      "text/plain": [
       "           id                                            premise  \\\n",
       "0  c6d58c3f69  بکس، کیسی، راہیل، یسعیاہ، کیلی، کیلی، اور کولم...   \n",
       "1  cefcc82292                             هذا هو ما تم نصحنا به.   \n",
       "2  e98005252c  et cela est en grande partie dû au fait que le...   \n",
       "3  58518c10ba                   与城市及其他公民及社区组织代表就IMA的艺术发展进行对话&amp   \n",
       "4  c32b0d16df                              Она все еще была там.   \n",
       "\n",
       "                                          hypothesis lang_abv language  \n",
       "0  کیسی کے لئے کوئی یادگار نہیں ہوگا, کولمین ہائی...       ur     Urdu  \n",
       "1  عندما يتم إخبارهم بما يجب عليهم فعله ، فشلت ال...       ar   Arabic  \n",
       "2                             Les mères se droguent.       fr   French  \n",
       "3                            IMA与其他组织合作，因为它们都依靠共享资金。       zh  Chinese  \n",
       "4     Мы думали, что она ушла, однако, она осталась.       ru  Russian  "
      ]
     },
     "execution_count": 8,
     "metadata": {},
     "output_type": "execute_result"
    }
   ],
   "source": [
    "test = pd.read_csv('/kaggle/input/contradictory-my-dear-watson/test.csv')\n",
    "test.head()"
   ]
  },
  {
   "cell_type": "markdown",
   "metadata": {
    "papermill": {
     "duration": 0.030899,
     "end_time": "2020-09-11T06:47:52.242991",
     "exception": false,
     "start_time": "2020-09-11T06:47:52.212092",
     "status": "completed"
    },
    "tags": []
   },
   "source": [
    "Cannot use checkpoints because the fit method is called multiple times"
   ]
  },
  {
   "cell_type": "code",
   "execution_count": 9,
   "metadata": {
    "execution": {
     "iopub.execute_input": "2020-09-11T06:47:52.320985Z",
     "iopub.status.busy": "2020-09-11T06:47:52.320208Z",
     "iopub.status.idle": "2020-09-11T08:47:45.534814Z",
     "shell.execute_reply": "2020-09-11T08:47:45.533776Z"
    },
    "papermill": {
     "duration": 7193.260079,
     "end_time": "2020-09-11T08:47:45.535066",
     "exception": false,
     "start_time": "2020-09-11T06:47:52.274987",
     "status": "completed"
    },
    "tags": []
   },
   "outputs": [
    {
     "name": "stdout",
     "output_type": "stream",
     "text": [
      "1/1 [==============================] - 0s 2ms/step - loss: 1.0707\n",
      "1/1 [==============================] - 0s 2ms/step - loss: 1.0826\n",
      "1/1 [==============================] - 0s 2ms/step - loss: 1.0739\n",
      "1/1 [==============================] - 0s 2ms/step - loss: 1.0835\n",
      "1/1 [==============================] - 0s 3ms/step - loss: 1.1230\n",
      "1/1 [==============================] - 0s 2ms/step - loss: 1.0847\n",
      "1/1 [==============================] - 0s 2ms/step - loss: 1.1124\n",
      "1/1 [==============================] - 0s 2ms/step - loss: 1.1055\n",
      "1/1 [==============================] - 0s 2ms/step - loss: 1.1084\n",
      "1/1 [==============================] - 0s 2ms/step - loss: 1.1245\n",
      "1/1 [==============================] - 0s 13ms/step - loss: 1.1469\n",
      "1/1 [==============================] - 0s 4ms/step - loss: 1.0212\n",
      "1/1 [==============================] - 0s 2ms/step - loss: 1.2167\n",
      "1/1 [==============================] - 0s 2ms/step - loss: 1.1140\n",
      "1/1 [==============================] - 0s 2ms/step - loss: 1.1425\n",
      "1/1 [==============================] - 0s 2ms/step - loss: 1.1376\n",
      "1/1 [==============================] - 0s 2ms/step - loss: 1.1348\n",
      "1/1 [==============================] - 0s 2ms/step - loss: 1.1912\n",
      "1/1 [==============================] - 0s 3ms/step - loss: 1.1289\n",
      "1/1 [==============================] - 0s 2ms/step - loss: 1.2942\n",
      "1/1 [==============================] - 0s 2ms/step - loss: 1.1116\n",
      "1/1 [==============================] - 0s 2ms/step - loss: 1.3177\n",
      "1/1 [==============================] - 0s 2ms/step - loss: 1.2309\n",
      "1/1 [==============================] - 0s 2ms/step - loss: 1.2360\n",
      "1/1 [==============================] - 0s 2ms/step - loss: 1.0287\n",
      "1/1 [==============================] - 0s 2ms/step - loss: 1.2138\n",
      "1/1 [==============================] - 0s 5ms/step - loss: 1.1502\n",
      "1/1 [==============================] - 0s 2ms/step - loss: 1.1944\n",
      "1/1 [==============================] - 0s 2ms/step - loss: 1.3506\n",
      "1/1 [==============================] - 0s 2ms/step - loss: 1.1099\n",
      "1/1 [==============================] - 0s 2ms/step - loss: 1.2721\n",
      "1/1 [==============================] - 0s 15ms/step - loss: 1.3664\n",
      "1/1 [==============================] - 0s 2ms/step - loss: 1.2830\n",
      "1/1 [==============================] - 0s 3ms/step - loss: 1.1227\n",
      "1/1 [==============================] - 0s 2ms/step - loss: 1.2340\n",
      "1/1 [==============================] - 0s 2ms/step - loss: 1.1570\n",
      "1/1 [==============================] - 0s 3ms/step - loss: 1.2567\n",
      "1/1 [==============================] - 0s 14ms/step - loss: 1.2348\n",
      "1/1 [==============================] - 0s 2ms/step - loss: 1.0881\n",
      "1/1 [==============================] - 0s 2ms/step - loss: 1.1912\n",
      "1/1 [==============================] - 0s 2ms/step - loss: 0.9667\n",
      "1/1 [==============================] - 0s 2ms/step - loss: 1.2561\n",
      "1/1 [==============================] - 0s 3ms/step - loss: 1.2554\n",
      "1/1 [==============================] - 0s 2ms/step - loss: 1.1758\n",
      "1/1 [==============================] - 0s 2ms/step - loss: 1.3865\n",
      "1/1 [==============================] - 0s 2ms/step - loss: 1.1962\n",
      "1/1 [==============================] - 0s 2ms/step - loss: 1.2143\n",
      "1/1 [==============================] - 0s 2ms/step - loss: 1.1079\n",
      "1/1 [==============================] - 0s 2ms/step - loss: 1.2165\n",
      "1/1 [==============================] - 0s 2ms/step - loss: 1.2779\n",
      "1/1 [==============================] - 0s 2ms/step - loss: 1.0739\n",
      "1/1 [==============================] - 0s 2ms/step - loss: 1.0759\n",
      "1/1 [==============================] - 0s 3ms/step - loss: 1.2175\n",
      "1/1 [==============================] - 0s 2ms/step - loss: 1.2384\n",
      "1/1 [==============================] - 0s 2ms/step - loss: 1.1354\n",
      "1/1 [==============================] - 0s 2ms/step - loss: 1.1688\n",
      "1/1 [==============================] - 0s 2ms/step - loss: 1.1106\n",
      "1/1 [==============================] - 0s 2ms/step - loss: 1.2721\n",
      "1/1 [==============================] - 0s 3ms/step - loss: 1.1282\n",
      "1/1 [==============================] - 0s 2ms/step - loss: 1.1240\n",
      "1/1 [==============================] - 0s 2ms/step - loss: 0.9463\n",
      "1/1 [==============================] - 0s 2ms/step - loss: 1.0143\n",
      "1/1 [==============================] - 0s 6ms/step - loss: 1.1114\n"
     ]
    }
   ],
   "source": [
    "epochs = 5\n",
    "batch_size = 32\n",
    "steps_per_epoch = len(df) // batch_size\n",
    "steps = int(steps_per_epoch * epochs // 6)\n",
    "\n",
    "best_loss = 1000\n",
    "\n",
    "for i in range(steps):\n",
    "    for X, y in generate_batch(batch_size).take(1):\n",
    "        #model.fit(X, y)\n",
    "        model.train_on_batch(X, y)\n",
    "        \n",
    "        if i % 5 == 0:\n",
    "            for X_val, y_val in generate_batch(batch_size).take(1):\n",
    "                val_loss = model.evaluate(X_val, y_val)\n",
    "                if val_loss < best_loss:\n",
    "                    model.save('./model_weights')\n",
    "                    best_loss = val_loss"
   ]
  },
  {
   "cell_type": "code",
   "execution_count": 10,
   "metadata": {
    "execution": {
     "iopub.execute_input": "2020-09-11T08:47:45.707054Z",
     "iopub.status.busy": "2020-09-11T08:47:45.705745Z",
     "iopub.status.idle": "2020-09-11T08:47:45.710598Z",
     "shell.execute_reply": "2020-09-11T08:47:45.710032Z"
    },
    "papermill": {
     "duration": 0.098518,
     "end_time": "2020-09-11T08:47:45.710713",
     "exception": false,
     "start_time": "2020-09-11T08:47:45.612195",
     "status": "completed"
    },
    "tags": []
   },
   "outputs": [
    {
     "data": {
      "text/html": [
       "<div>\n",
       "<style scoped>\n",
       "    .dataframe tbody tr th:only-of-type {\n",
       "        vertical-align: middle;\n",
       "    }\n",
       "\n",
       "    .dataframe tbody tr th {\n",
       "        vertical-align: top;\n",
       "    }\n",
       "\n",
       "    .dataframe thead th {\n",
       "        text-align: right;\n",
       "    }\n",
       "</style>\n",
       "<table border=\"1\" class=\"dataframe\">\n",
       "  <thead>\n",
       "    <tr style=\"text-align: right;\">\n",
       "      <th></th>\n",
       "      <th>id</th>\n",
       "      <th>premise</th>\n",
       "      <th>hypothesis</th>\n",
       "      <th>lang_abv</th>\n",
       "      <th>language</th>\n",
       "      <th>label</th>\n",
       "    </tr>\n",
       "  </thead>\n",
       "  <tbody>\n",
       "    <tr>\n",
       "      <th>0</th>\n",
       "      <td>5130fd2cb5</td>\n",
       "      <td>and these comments were considered in formulat...</td>\n",
       "      <td>The rules developed in the interim were put to...</td>\n",
       "      <td>en</td>\n",
       "      <td>English</td>\n",
       "      <td>0</td>\n",
       "    </tr>\n",
       "    <tr>\n",
       "      <th>1</th>\n",
       "      <td>5b72532a0b</td>\n",
       "      <td>These are issues that we wrestle with in pract...</td>\n",
       "      <td>Practice groups are not permitted to work on t...</td>\n",
       "      <td>en</td>\n",
       "      <td>English</td>\n",
       "      <td>2</td>\n",
       "    </tr>\n",
       "    <tr>\n",
       "      <th>2</th>\n",
       "      <td>3931fbe82a</td>\n",
       "      <td>Des petites choses comme celles-là font une di...</td>\n",
       "      <td>J'essayais d'accomplir quelque chose.</td>\n",
       "      <td>fr</td>\n",
       "      <td>French</td>\n",
       "      <td>0</td>\n",
       "    </tr>\n",
       "    <tr>\n",
       "      <th>3</th>\n",
       "      <td>5622f0c60b</td>\n",
       "      <td>you know they can't really defend themselves l...</td>\n",
       "      <td>They can't defend themselves because of their ...</td>\n",
       "      <td>en</td>\n",
       "      <td>English</td>\n",
       "      <td>0</td>\n",
       "    </tr>\n",
       "    <tr>\n",
       "      <th>4</th>\n",
       "      <td>86aaa48b45</td>\n",
       "      <td>ในการเล่นบทบาทสมมุติก็เช่นกัน โอกาสที่จะได้แสด...</td>\n",
       "      <td>เด็กสามารถเห็นได้ว่าชาติพันธุ์แตกต่างกันอย่างไร</td>\n",
       "      <td>th</td>\n",
       "      <td>Thai</td>\n",
       "      <td>1</td>\n",
       "    </tr>\n",
       "  </tbody>\n",
       "</table>\n",
       "</div>"
      ],
      "text/plain": [
       "           id                                            premise  \\\n",
       "0  5130fd2cb5  and these comments were considered in formulat...   \n",
       "1  5b72532a0b  These are issues that we wrestle with in pract...   \n",
       "2  3931fbe82a  Des petites choses comme celles-là font une di...   \n",
       "3  5622f0c60b  you know they can't really defend themselves l...   \n",
       "4  86aaa48b45  ในการเล่นบทบาทสมมุติก็เช่นกัน โอกาสที่จะได้แสด...   \n",
       "\n",
       "                                          hypothesis lang_abv language  label  \n",
       "0  The rules developed in the interim were put to...       en  English      0  \n",
       "1  Practice groups are not permitted to work on t...       en  English      2  \n",
       "2              J'essayais d'accomplir quelque chose.       fr   French      0  \n",
       "3  They can't defend themselves because of their ...       en  English      0  \n",
       "4    เด็กสามารถเห็นได้ว่าชาติพันธุ์แตกต่างกันอย่างไร       th     Thai      1  "
      ]
     },
     "execution_count": 10,
     "metadata": {},
     "output_type": "execute_result"
    }
   ],
   "source": [
    "df.head()"
   ]
  },
  {
   "cell_type": "code",
   "execution_count": 11,
   "metadata": {
    "execution": {
     "iopub.execute_input": "2020-09-11T08:47:45.873100Z",
     "iopub.status.busy": "2020-09-11T08:47:45.872335Z",
     "iopub.status.idle": "2020-09-11T08:49:23.897902Z",
     "shell.execute_reply": "2020-09-11T08:49:23.897280Z"
    },
    "papermill": {
     "duration": 98.109386,
     "end_time": "2020-09-11T08:49:23.898044",
     "exception": false,
     "start_time": "2020-09-11T08:47:45.788658",
     "status": "completed"
    },
    "tags": []
   },
   "outputs": [],
   "source": [
    "model = tf.keras.models.load_model('./model_weights')"
   ]
  },
  {
   "cell_type": "code",
   "execution_count": 12,
   "metadata": {
    "execution": {
     "iopub.execute_input": "2020-09-11T08:49:24.074795Z",
     "iopub.status.busy": "2020-09-11T08:49:24.073337Z",
     "iopub.status.idle": "2020-09-11T08:50:54.897122Z",
     "shell.execute_reply": "2020-09-11T08:50:54.897680Z"
    },
    "papermill": {
     "duration": 90.913277,
     "end_time": "2020-09-11T08:50:54.897853",
     "exception": false,
     "start_time": "2020-09-11T08:49:23.984576",
     "status": "completed"
    },
    "tags": []
   },
   "outputs": [
    {
     "data": {
      "text/html": [
       "<div>\n",
       "<style scoped>\n",
       "    .dataframe tbody tr th:only-of-type {\n",
       "        vertical-align: middle;\n",
       "    }\n",
       "\n",
       "    .dataframe tbody tr th {\n",
       "        vertical-align: top;\n",
       "    }\n",
       "\n",
       "    .dataframe thead th {\n",
       "        text-align: right;\n",
       "    }\n",
       "</style>\n",
       "<table border=\"1\" class=\"dataframe\">\n",
       "  <thead>\n",
       "    <tr style=\"text-align: right;\">\n",
       "      <th></th>\n",
       "      <th>id</th>\n",
       "      <th>prediction</th>\n",
       "    </tr>\n",
       "  </thead>\n",
       "  <tbody>\n",
       "    <tr>\n",
       "      <th>0</th>\n",
       "      <td>c6d58c3f69</td>\n",
       "      <td>2</td>\n",
       "    </tr>\n",
       "    <tr>\n",
       "      <th>1</th>\n",
       "      <td>cefcc82292</td>\n",
       "      <td>2</td>\n",
       "    </tr>\n",
       "    <tr>\n",
       "      <th>2</th>\n",
       "      <td>e98005252c</td>\n",
       "      <td>2</td>\n",
       "    </tr>\n",
       "    <tr>\n",
       "      <th>3</th>\n",
       "      <td>58518c10ba</td>\n",
       "      <td>2</td>\n",
       "    </tr>\n",
       "    <tr>\n",
       "      <th>4</th>\n",
       "      <td>c32b0d16df</td>\n",
       "      <td>2</td>\n",
       "    </tr>\n",
       "  </tbody>\n",
       "</table>\n",
       "</div>"
      ],
      "text/plain": [
       "           id  prediction\n",
       "0  c6d58c3f69           2\n",
       "1  cefcc82292           2\n",
       "2  e98005252c           2\n",
       "3  58518c10ba           2\n",
       "4  c32b0d16df           2"
      ]
     },
     "execution_count": 12,
     "metadata": {},
     "output_type": "execute_result"
    }
   ],
   "source": [
    "test_premises = test.loc[:, 'premise']\n",
    "test_conclusion = test.loc[:, 'hypothesis']\n",
    "test_ids = test.loc[:, 'id']\n",
    "preds = np.argmax(model.predict({\"Input1\" : test_premises, \"Input2\": test_conclusion}), axis=-1)\n",
    "submission_df = pd.DataFrame({'id' : test_ids, 'prediction' : preds})\n",
    "submission_df.head()"
   ]
  },
  {
   "cell_type": "code",
   "execution_count": 13,
   "metadata": {
    "execution": {
     "iopub.execute_input": "2020-09-11T08:50:55.062690Z",
     "iopub.status.busy": "2020-09-11T08:50:55.061986Z",
     "iopub.status.idle": "2020-09-11T08:50:55.349047Z",
     "shell.execute_reply": "2020-09-11T08:50:55.349683Z"
    },
    "papermill": {
     "duration": 0.373723,
     "end_time": "2020-09-11T08:50:55.349839",
     "exception": false,
     "start_time": "2020-09-11T08:50:54.976116",
     "status": "completed"
    },
    "tags": []
   },
   "outputs": [],
   "source": [
    "submission_df.to_csv('submission.csv', index=False)"
   ]
  }
 ],
 "metadata": {
  "kernelspec": {
   "display_name": "Python 3",
   "language": "python",
   "name": "python3"
  },
  "language_info": {
   "codemirror_mode": {
    "name": "ipython",
    "version": 3
   },
   "file_extension": ".py",
   "mimetype": "text/x-python",
   "name": "python",
   "nbconvert_exporter": "python",
   "pygments_lexer": "ipython3",
   "version": "3.7.6"
  },
  "papermill": {
   "duration": 7461.760953,
   "end_time": "2020-09-11T08:50:55.938351",
   "environment_variables": {},
   "exception": null,
   "input_path": "__notebook__.ipynb",
   "output_path": "__notebook__.ipynb",
   "parameters": {},
   "start_time": "2020-09-11T06:46:34.177398",
   "version": "2.1.0"
  }
 },
 "nbformat": 4,
 "nbformat_minor": 4
}
